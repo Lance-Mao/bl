{
 "cells": [
  {
   "cell_type": "markdown",
   "metadata": {
    "collapsed": true,
    "pycharm": {
     "name": "#%% md\n"
    }
   },
   "source": [
    "# 简单线性回归\n",
    "\n",
    "- 最小二乘法\n",
    "\n",
    "- 实现简单的线性回归算法\n",
    "\n",
    "- 使用面向对象编程实现\n",
    "\n",
    "- 向量化运算\n",
    "\n",
    "- 线性回归算法的评价\n",
    "\n",
    "- 最好的衡量线性回归算法的指标\n",
    "\n",
    "\n",
    "\n",
    ">思想简单，是许多强大的非线性模型的基础，具有很好的可解释性。背后有强大的数学理论支持。\n",
    "\n",
    ">其本质：寻找一条直线，最大程度地去拟合样本特征和样本输出标记之间的关系\n",
    "\n",
    "\n",
    "\n",
    "## 实现简单的线性回归算法"
   ]
  },
  {
   "cell_type": "code",
   "execution_count": 4,
   "outputs": [
    {
     "data": {
      "text/plain": "<Figure size 432x288 with 1 Axes>",
      "image/png": "[encoded data removed]"
     },
     "metadata": {
      "needs_background": "light"
     },
     "output_type": "display_data"
    },
    {
     "data": {
      "text/plain": "<Figure size 432x288 with 1 Axes>",
      "image/png": "[encoded data removed]"
     },
     "metadata": {
      "needs_background": "light"
     },
     "output_type": "display_data"
    }
   ],
   "source": [
    "import numpy as np\n",
    "import matplotlib.pyplot as plt\n",
    "\n",
    "x = np.array([1., 2., 3., 4., 5.])\n",
    "y = np.array([1., 3., 2., 3., 5.])\n",
    "\n",
    "plt.scatter(x, y)\n",
    "plt.axis([0, 6, 0, 6])\n",
    "plt.show()\n",
    "\n",
    "x_mean = np.mean(x)\n",
    "y_mean = np.mean(y)\n",
    "up = 0\n",
    "down = 0\n",
    "for x_i, y_i in zip(x, y):\n",
    "    up += (x_i - x_mean) * (y_i - x_mean)\n",
    "    down += (x_i - x_mean) ** 2\n",
    "a = up / down\n",
    "b = y_mean - a * x_mean\n",
    "\n",
    "y_hat = a * x + b\n",
    "plt.scatter(x, y)\n",
    "plt.plot(x, y_hat, 'r')\n",
    "plt.axis([0, 6, 0, 6])\n",
    "plt.show()\n",
    "# 接下来测试一个新的数据\n",
    "x_new = 6\n",
    "y_predict = a * x_new + b"
   ],
   "metadata": {
    "collapsed": false,
    "pycharm": {
     "name": "#%%\n",
     "is_executing": false
    }
   }
  },
  {
   "cell_type": "markdown",
   "source": [
    "## 使用面向对象编程实现\n"
   ],
   "metadata": {
    "collapsed": false,
    "pycharm": {
     "name": "#%% md\n"
    }
   }
  },
  {
   "cell_type": "code",
   "execution_count": 5,
   "outputs": [
    {
     "name": "stdout",
     "text": [
      "[5.2]\n0.8\n0.39999999999999947\n"
     ],
     "output_type": "stream"
    }
   ],
   "source": [
    "import numpy as np\n",
    "\n",
    "class SimpleLinearRegreesion1(object):\n",
    "    def __init__(self):\n",
    "        self.a_ = None\n",
    "        self.b_ = None\n",
    "        \n",
    "    def fit(self, x_train, y_train):\n",
    "        assert x_train.ndim == 1, \"Simple linear regression can only solve single feature training data\"\n",
    "        assert len(x_train) == len(y_train), \"the size of x_train must be equal to the size of y_train\"\n",
    "        \n",
    "        x_mean = np.mean(x_train)\n",
    "        y_mean = np.mean(y_train)\n",
    "        \n",
    "        up = 0\n",
    "        down = 0\n",
    "        for x_i, y_i in zip(x_train, y_train):\n",
    "            up += (x_i - x_mean) * (y_i - x_mean)\n",
    "            down += (x_i - x_mean) ** 2\n",
    "        \n",
    "        self.a_ = up / down\n",
    "        self.b_ = y_mean - self.a_ * x_mean\n",
    "        \n",
    "        return self\n",
    "    \n",
    "    def predict(self, x_predict):\n",
    "        assert x_predict.ndim == 1, \"Simple linear regression can only solve single feature training data\"\n",
    "        assert self.a_ is not None and self.b_ is not None, \"must fit before predict!\"\n",
    "        \"这个函数用来处理一次传入多个x_predict\"\n",
    "        return [self._predict(x) for x in x_predict]\n",
    "    \n",
    "    def _predict(self, x_single):\n",
    "        \"预测单个数据\"\n",
    "        return self.a_ * x_single + self.b_\n",
    "    \n",
    "    def __repr__(self):\n",
    "        return \"SimpleLinearRegression\"\n",
    "    \n",
    "if __name__ == '__main__':\n",
    "    import numpy as np\n",
    "\n",
    "    x = np.array([1., 2., 3., 4., 5.])\n",
    "    y = np.array([1., 3., 2., 3., 5.])\n",
    "    x_new = 6\n",
    "\n",
    "    reg1 = SimpleLinearRegreesion1()\n",
    "    reg1.fit(x, y)\n",
    "    y_predict = reg1.predict(np.array([x_new]))\n",
    "    print(y_predict)\n",
    "    print(reg1.a_)\n",
    "    print(reg1.b_)"
   ],
   "metadata": {
    "collapsed": false,
    "pycharm": {
     "name": "#%%\n",
     "is_executing": false
    }
   }
  },
  {
   "cell_type": "markdown",
   "source": [
    "## 向量化运算\n",
    "import numpy as np"
   ],
   "metadata": {
    "collapsed": false,
    "pycharm": {
     "name": "#%% md\n"
    }
   }
  },
  {
   "cell_type": "code",
   "execution_count": 6,
   "outputs": [],
   "source": [
    "class SimpleLinearRegreesion2(object):\n",
    "\n",
    "    def __init__(self):\n",
    "        self.a_ = None\n",
    "        self.b_ = None\n",
    "\n",
    "    def fit(self, x_train, y_train):\n",
    "        assert x_train.ndim == 1, \"Simple linear regression can only solve single feature training data\"\n",
    "        assert len(x_train) == len(y_train), \"the size of x_train must be equal to the size of y_train\"\n",
    "\n",
    "        x_mean = np.mean(x_train)\n",
    "        y_mean = np.mean(y_train)\n",
    "\n",
    "        up = (x_train - x_mean).dot(y_train - y_mean)\n",
    "        down = (x_train - x_mean).dot((x_train - x_mean))\n",
    "\n",
    "        self.a_ = up / down\n",
    "        self.b_ = y_mean - self.a_ * x_mean\n",
    "        return self\n",
    "\n",
    "    def predict(self, x_predict):\n",
    "        assert x_predict.ndim == 1, \"Simple linear regression can only solve single feature training data\"\n",
    "        assert self.a_ is not None and self.b_ is not None, \"must fit before predict!\"\n",
    "        \"这个函数用来处理一次传入多个x_predict\"\n",
    "        return [self._predict(x) for x in x_predict]\n",
    "\n",
    "    def _predict(self, x_single):\n",
    "        \"预测单个数据\"\n",
    "        return self.a_ * x_single + self.b_\n",
    "\n",
    "    def __repr__(self):\n",
    "        return \"SimpleLinearRegression\"\n",
    "    "
   ],
   "metadata": {
    "collapsed": false,
    "pycharm": {
     "name": "#%%\n",
     "is_executing": false
    }
   }
  },
  {
   "cell_type": "markdown",
   "source": [
    "性能对比"
   ],
   "metadata": {
    "collapsed": false,
    "pycharm": {
     "name": "#%% md\n"
    }
   }
  },
  {
   "cell_type": "code",
   "execution_count": 7,
   "outputs": [
    {
     "name": "stdout",
     "text": [
      "运行时间:0.09574460983276367\n运行时间:0.00498652458190918\n"
     ],
     "output_type": "stream"
    }
   ],
   "source": [
    "if __name__ == '__main__':\n",
    "    import numpy as np\n",
    "    import time\n",
    "\n",
    "    m = 100000\n",
    "    x = np.random.random(size=m)\n",
    "    y = x * 2.0 + 3.0 + np.random.normal(0, 1, size=m)\n",
    "\n",
    "    start1 = time.time()\n",
    "    reg1 = SimpleLinearRegreesion1()\n",
    "    reg1.fit(x, y)\n",
    "    stop1 = time.time()\n",
    "    print(\"运行时间:%s\" % (stop1 - start1))\n",
    "\n",
    "    start2 = time.time()\n",
    "    reg2 = SimpleLinearRegreesion2()\n",
    "    reg2.fit(x, y)\n",
    "    stop2 = time.time()\n",
    "    print(\"运行时间:%s\" % (stop2 - start2))\n",
    "    "
   ],
   "metadata": {
    "collapsed": false,
    "pycharm": {
     "name": "#%%\n",
     "is_executing": false
    }
   }
  },
  {
   "cell_type": "markdown",
   "source": [
    "## 线性回归算法的评价\n",
    "\n",
    "![a](img/one.png)\n",
    "\n",
    "#### 使用波士顿房价做简单线性回归，并使用这面三中评价函数对线性回归模型进行评价"
   ],
   "metadata": {
    "collapsed": false,
    "pycharm": {
     "name": "#%% md\n"
    }
   }
  },
  {
   "cell_type": "code",
   "source": [
    "import numpy as np\n",
    "import matplotlib.pyplot as plt\n",
    "from sklearn import datasets\n",
    "\n",
    "boston = datasets.load_boston()\n",
    "\n",
    "boston.feature_names\n",
    "x = boston.data[:, 5]   # 只是用房间数量这个特征\n",
    "y = boston.target       # 波士顿房价\n",
    "plt.scatter(x, y)\n",
    "plt.show()"
   ],
   "metadata": {
    "collapsed": false,
    "pycharm": {
     "name": "#%%\n",
     "is_executing": false
    }
   },
   "execution_count": 10,
   "outputs": [
    {
     "data": {
      "text/plain": "<Figure size 432x288 with 1 Axes>",
      "image/png": "[encoded data removed]"
     },
     "metadata": {
      "needs_background": "light"
     },
     "output_type": "display_data"
    }
   ]
  }
 ],
 "metadata": {
  "language_info": {
   "codemirror_mode": {
    "name": "ipython",
    "version": 2
   },
   "file_extension": ".py",
   "mimetype": "text/x-python",
   "name": "python",
   "nbconvert_exporter": "python",
   "pygments_lexer": "ipython2",
   "version": "2.7.6"
  },
  "kernelspec": {
   "name": "python3",
   "language": "python",
   "display_name": "Python 3"
  },
  "pycharm": {
   "stem_cell": {
    "cell_type": "raw",
    "source": [],
    "metadata": {
     "collapsed": false
    }
   }
  }
 },
 "nbformat": 4,
 "nbformat_minor": 0
}