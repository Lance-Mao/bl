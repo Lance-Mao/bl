{
 "cells": [
  {
   "cell_type": "markdown",
   "metadata": {
    "collapsed": true,
    "pycharm": {
     "name": "#%% md\n"
    }
   },
   "source": [
    "> 邻近算法，或者说K最近邻(kNN，k-NearestNeighbor)分类算法是数据挖掘分类技术中最简单的方法之一。所谓K最近邻，就是k个最近的邻居的意思，说的是每个样本都可以用它最接近的k个邻近值来代表。\n",
    "\n",
    "> kNN算法的核心思想是如果一个样本在特征空间中的k个最相邻的样本中的大多数属于某一个类别，则该样本也属于这个类别，并具有这个类别上样本的特性。该方法在确定分类决策上只依据最邻近的一个或者几个样本的类别来决定待分样本所属的类别。 kNN方法在类别决策时，只与极少量的相邻样本有关。由于kNN方法主要靠周围有限的邻近的样本，而不是靠判别类域的方法来确定所属类别的，因此对于类域的交叉或重叠较多的待分样本集来说，kNN方法较其他方法更为适合。\n"
   ]
  },
  {
   "cell_type": "markdown",
   "source": [
    "## 一、KNN基础\n",
    "#### 1、先创建好数据集x_train, y_train，和一个新的数据x_new, 并使用matplot将其可视化出来。"
   ],
   "metadata": {
    "collapsed": false,
    "pycharm": {
     "name": "#%% md\n"
    }
   }
  },
  {
   "cell_type": "code",
   "execution_count": 2,
   "outputs": [
    {
     "data": {
      "text/plain": "<Figure size 432x288 with 1 Axes>",
      "image/png": "[encoded data removed]"
     },
     "metadata": {
      "needs_background": "light"
     },
     "output_type": "display_data"
    }
   ],
   "source": [
    "import numpy as np\n",
    "import matplotlib.pyplot as plt\n",
    "\n",
    "raw_data_x = [[3.3935, 2.3313],\n",
    "              [3.1101, 1.7815],\n",
    "              [1.3438, 3.3684],\n",
    "              [3.5823, 4.6792],\n",
    "              [2.2804, 2.8670],\n",
    "              [7.4234, 4.6965],\n",
    "              [5.7451, 3.5340],\n",
    "              [9.1722, 2.5111],\n",
    "              [7.7928, 3.4241],\n",
    "              [7.9398, 0.7916]]\n",
    "raw_data_y = [0, 0, 0, 0, 0, 1, 1, 1, 1, 1]\n",
    "\n",
    "x_train = np.array(raw_data_x)\n",
    "y_train = np.array(raw_data_y)\n",
    "\n",
    "x_new = np.array([8.0936, 3.3657])\n",
    "\n",
    "plt.scatter(x_train[y_train==0,0], x_train[y_train==0,1], color='g')\n",
    "plt.scatter(x_train[y_train==1,0], x_train[y_train==1,1], color='r')\n",
    "plt.scatter(x_new[0], x_new[1], color='b')\n",
    "plt.show()"
   ],
   "metadata": {
    "collapsed": false,
    "pycharm": {
     "name": "#%%\n",
     "is_executing": false
    }
   }
  },
  {
   "cell_type": "markdown",
   "source": [
    "#### 2、计算距离\n"
   ],
   "metadata": {
    "collapsed": false,
    "pycharm": {
     "name": "#%% md\n"
    }
   }
  },
  {
   "cell_type": "code",
   "execution_count": 3,
   "outputs": [],
   "source": [
    "from math import sqrt\n",
    "\n",
    "distance = []\n",
    "for x in x_train:\n",
    "    d = sqrt(np.sum((x_new - x) ** 2))\n",
    "    distance.append(d)\n",
    "\n",
    "# 其实上面这些代码用一行就可以搞定\n",
    "# distances = [sqrt(np.sum((x_new - x) ** 2)) for x in x_train]"
   ],
   "metadata": {
    "collapsed": false,
    "pycharm": {
     "name": "#%%\n",
     "is_executing": false
    }
   }
  },
  {
   "cell_type": "markdown",
   "source": [
    "#### 3、将距离进行排序,返回的是排序之后的索引位置"
   ],
   "metadata": {
    "collapsed": false,
    "pycharm": {
     "name": "#%% md\n"
    }
   }
  },
  {
   "cell_type": "code",
   "execution_count": 4,
   "outputs": [
    {
     "name": "stdout",
     "text": [
      "[8 7 5 6 9 3 0 1 4 2]\n"
     ],
     "output_type": "stream"
    }
   ],
   "source": [
    "nearsest = np.argsort(distance)\n",
    "\n",
    "print(nearsest)"
   ],
   "metadata": {
    "collapsed": false,
    "pycharm": {
     "name": "#%%\n",
     "is_executing": false
    }
   }
  },
  {
   "cell_type": "markdown",
   "source": [
    "#### 4、取k个点，假设k=5"
   ],
   "metadata": {
    "collapsed": false,
    "pycharm": {
     "name": "#%% md\n"
    }
   }
  },
  {
   "cell_type": "code",
   "execution_count": 11,
   "outputs": [
    {
     "name": "stdout",
     "text": [
      "[1, 1, 1, 1, 1, 0, 0, 0, 0, 0]\n"
     ],
     "output_type": "stream"
    }
   ],
   "source": [
    "k = 10\n",
    "topk_y = [y_train[i] for i in nearsest[:k]]\n",
    "\n",
    "print(topk_y)"
   ],
   "metadata": {
    "collapsed": false,
    "pycharm": {
     "name": "#%%\n",
     "is_executing": false
    }
   }
  },
  {
   "cell_type": "markdown",
   "source": [
    "#### 5、投票"
   ],
   "metadata": {
    "collapsed": false,
    "pycharm": {
     "name": "#%% md\n"
    }
   }
  },
  {
   "cell_type": "code",
   "execution_count": 6,
   "outputs": [
    {
     "name": "stdout",
     "text": [
      "1\n"
     ],
     "output_type": "stream"
    }
   ],
   "source": [
    "from collections import Counter\n",
    "Counter(topk_y)\n",
    "\n",
    "votes = Counter(topk_y)\n",
    "votes.most_common(1)\n",
    "y_new = votes.most_common(1)[0][0]\n",
    "\n",
    "print(y_new)\n"
   ],
   "metadata": {
    "collapsed": false,
    "pycharm": {
     "name": "#%%\n",
     "is_executing": false
    }
   }
  },
  {
   "cell_type": "markdown",
   "source": [
    "## 2、手动实现knn函数"
   ],
   "metadata": {
    "collapsed": false,
    "pycharm": {
     "name": "#%% md\n"
    }
   }
  },
  {
   "cell_type": "code",
   "execution_count": 12,
   "outputs": [
    {
     "name": "stdout",
     "text": [
      "1\n"
     ],
     "output_type": "stream"
    }
   ],
   "source": [
    "import numpy as np\n",
    "from math import sqrt\n",
    "from collections import Counter\n",
    "\n",
    "def kNN_classifier(k, x_train, y_train, x_new):\n",
    "    assert 1 <= k <= x_train.shape[0], 'k must be valid'\n",
    "    assert x_train.shape[0] == y_train.shape[0], 'the size of x_train must be equal to the size of y_train'\n",
    "    assert x_train.shape[1] == x_new.shape[0], 'the feature number of x_new must be equal to x_train'\n",
    "    \n",
    "    distances = [sqrt(np.sum((x_new - x) ** 2)) for x in x_train]\n",
    "    nearsest = np.argsort(distances)\n",
    "    \n",
    "    topk_y = [y_train[i] for i in nearsest[:k]]\n",
    "    votes = Counter(topk_y)\n",
    "    \n",
    "    return votes.most_common(1)[0][0]\n",
    "\n",
    "\n",
    "raw_data_x = [[3.3935, 2.3313],\n",
    "              [3.1101, 1.7815],\n",
    "              [1.3438, 3.3684],\n",
    "              [3.5823, 4.6792],\n",
    "              [2.2804, 2.8670],\n",
    "              [7.4234, 4.6965],\n",
    "              [5.7451, 3.5340],\n",
    "              [9.1722, 2.5111],\n",
    "              [7.7928, 3.4241],\n",
    "              [7.9398, 0.7916]]\n",
    "raw_data_y = [0, 0, 0, 0, 0, 1, 1, 1, 1, 1]\n",
    "x_train = np.array(raw_data_x)\n",
    "y_train = np.array(raw_data_y)\n",
    "\n",
    "x_new = np.array([8.0936, 3.3657])\n",
    "\n",
    "y_new = kNN_classifier(5, x_train, y_train, x_new)\n",
    "print(y_new)\n"
   ],
   "metadata": {
    "collapsed": false,
    "pycharm": {
     "name": "#%%\n",
     "is_executing": false
    }
   }
  },
  {
   "cell_type": "markdown",
   "source": [
    "## 3、实现一个面向对象的KNN\n"
   ],
   "metadata": {
    "collapsed": false,
    "pycharm": {
     "name": "#%% md\n"
    }
   }
  },
  {
   "cell_type": "code",
   "execution_count": 15,
   "outputs": [
    {
     "name": "stdout",
     "text": [
      "1\n"
     ],
     "output_type": "stream"
    }
   ],
   "source": [
    "import numpy as np\n",
    "from math import sqrt\n",
    "from collections import Counter\n",
    "\n",
    "class KNNClassifier():\n",
    "    \n",
    "    def __init__(self, k):\n",
    "        assert 1 <= k, \"k must be valid\"\n",
    "        self.k = k\n",
    "        self._x_train = None\n",
    "        self._y_train = None\n",
    "\n",
    "    def fit(self, x_train, y_train):\n",
    "        assert x_train.shape[0] == y_train.shape[0], \"the size of x_train must be equal to the size of y_train\"\n",
    "        assert self.k <= x_train.shape[0], \"the size of x_train must be at least k\"\n",
    "\n",
    "        self._x_train = x_train\n",
    "        self._y_train = y_train\n",
    "        return self\n",
    "\n",
    "    def predict(self, x_new):\n",
    "        x_new = x_new.reshape(1, -1)\n",
    "        assert self._x_train is not None and self._y_train is not None, \"must fit before predict\"\n",
    "        assert x_new.shape[1] == self._x_train.shape[1], \"the feature number of x must be equal to x_train\"\n",
    "\n",
    "        y_new = [self._predict(x) for x in x_new]\n",
    "        return np.array(y_new)\n",
    "\n",
    "    def _predict(self, x):\n",
    "        assert x.shape[0] == self._x_train.shape[1], \"the feature number of x must be equal to x_train\"\n",
    "\n",
    "        distances = [sqrt(np.sum((x_train - x) ** 2)) for x_train in self._x_train]\n",
    "        nearest = np.argsort(distances)\n",
    "\n",
    "        topk_y = [self._y_train[i] for i in nearest[:self.k]]\n",
    "        votes = Counter(topk_y)\n",
    "\n",
    "        return votes.most_common(1)[0][0]\n",
    "\n",
    "    def __repr__(self):\n",
    "        return \"KNN(k=%d)\" % self.k\n",
    "    \n",
    "\n",
    "raw_data_x = [[3.3935, 2.3313],\n",
    "              [3.1101, 1.7815],\n",
    "              [1.3438, 3.3684],\n",
    "              [3.5823, 4.6792],\n",
    "              [2.2804, 2.8670],\n",
    "              [7.4234, 4.6965],\n",
    "              [5.7451, 3.5340],\n",
    "              [9.1722, 2.5111],\n",
    "              [7.7928, 3.4241],\n",
    "              [7.9398, 0.7916]]\n",
    "raw_data_y = [0, 0, 0, 0, 0, 1, 1, 1, 1, 1]\n",
    "x_train = np.array(raw_data_x)\n",
    "y_train = np.array(raw_data_y)\n",
    "\n",
    "x_new = np.array([8.0936, 3.3657])\n",
    "\n",
    "knn_clf = KNNClassifier(6)\n",
    "knn_clf.fit(x_train, y_train)\n",
    "y_new = knn_clf.predict(x_new)\n",
    "print(y_new[0])\n"
   ],
   "metadata": {
    "collapsed": false,
    "pycharm": {
     "name": "#%%\n",
     "is_executing": false
    }
   }
  },
  {
   "cell_type": "markdown",
   "source": [
    "## 4、使用sklearn中的手写数字数据集测试KNN\n",
    "\n",
    "#### 首先，先来了解一下手写数字数据集"
   ],
   "metadata": {
    "collapsed": false,
    "pycharm": {
     "name": "#%% md\n"
    }
   }
  },
  {
   "cell_type": "code",
   "execution_count": 2,
   "outputs": [
    {
     "data": {
      "text/plain": "0.9861111111111112"
     },
     "metadata": {},
     "output_type": "execute_result",
     "execution_count": 2
    }
   ],
   "source": [
    "from sklearn.metrics import accuracy_score\n",
    "from sklearn.model_selection import train_test_split\n",
    "from sklearn.neighbors import KNeighborsClassifier\n",
    "from sklearn import datasets\n",
    "\n",
    "\n",
    "digits = datasets.load_digits()\n",
    "x = digits.data\n",
    "y = digits.target\n",
    "\n",
    "x_train, x_test, y_train, y_test = train_test_split(x, y, test_size=0.2)\n",
    "knn_classifier = KNeighborsClassifier(n_neighbors=3)\n",
    "knn_classifier.fit(x_train, y_train)\n",
    "knn_classifier.score(x_test, y_test)"
   ],
   "metadata": {
    "collapsed": false,
    "pycharm": {
     "name": "#%%\n",
     "is_executing": false
    }
   }
  }
 ],
 "metadata": {
  "language_info": {
   "codemirror_mode": {
    "name": "ipython",
    "version": 2
   },
   "file_extension": ".py",
   "mimetype": "text/x-python",
   "name": "python",
   "nbconvert_exporter": "python",
   "pygments_lexer": "ipython2",
   "version": "2.7.6"
  },
  "kernelspec": {
   "name": "python3",
   "language": "python",
   "display_name": "Python 3"
  },
  "pycharm": {
   "stem_cell": {
    "cell_type": "raw",
    "source": [],
    "metadata": {
     "collapsed": false
    }
   }
  }
 },
 "nbformat": 4,
 "nbformat_minor": 0
}