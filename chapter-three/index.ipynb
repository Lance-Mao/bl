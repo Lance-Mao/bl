{
 "cells": [
  {
   "cell_type": "markdown",
   "source": [
    "### 2.1、下载CIFAR数据集"
   ],
   "metadata": {
    "collapsed": false,
    "pycharm": {
     "name": "#%% md\n"
    }
   }
  },
  {
   "cell_type": "code",
   "execution_count": 23,
   "outputs": [
    {
     "name": "stdout",
     "text": [
      "Data file already exists.\nDirectory already exists.\n"
     ],
     "output_type": "stream"
    }
   ],
   "source": [
    "import urllib.request\n",
    "import os\n",
    "import tarfile\n",
    "\n",
    "# 下载\n",
    "url = 'https://www.cs.toronto.edu/~kriz/cifar-10-python.tar.gz'\n",
    "filepath = 'data/cifar-10-python.tar.gz'\n",
    "\n",
    "if not os.path.isfile(filepath):\n",
    "    result = urllib.request.urlretrieve(url, filepath)\n",
    "    print('downloaded:', result)\n",
    "else:\n",
    "    print('Data file already exists.')\n",
    "\n",
    "# 解压\n",
    "if not os.path.exists('data/cifar-10-batches-py'):\n",
    "    tfile = tarfile.open('data/cifar-10-python.tar.gz', 'r:gz')\n",
    "    result = tfile.extractall('data/')\n",
    "    print('Extracted to ./data/cifar-10-batches-py/')\n",
    "else:\n",
    "    print('Directory already exists.')"
   ],
   "metadata": {
    "collapsed": false,
    "pycharm": {
     "name": "#%%\n",
     "is_executing": false
    }
   }
  },
  {
   "cell_type": "markdown",
   "source": [
    "### 2.2、导入CIFAR数据集"
   ],
   "metadata": {
    "collapsed": false,
    "pycharm": {
     "name": "#%% md\n"
    }
   }
  },
  {
   "cell_type": "code",
   "execution_count": 24,
   "outputs": [
    {
     "name": "stdout",
     "text": [
      "loading data/cifar-10-batches-py/data_batch_1\nloading data/cifar-10-batches-py/data_batch_2\nloading data/cifar-10-batches-py/data_batch_3\nloading data/cifar-10-batches-py/data_batch_4\nloading",
      " data/cifar-10-batches-py/data_batch_5\nfinished loadding CIFAR-10 data\n"
     ],
     "output_type": "stream"
    }
   ],
   "source": [
    "import os \n",
    "import numpy as np\n",
    "import pickle as p\n",
    "\n",
    "# 读取一个批次的样本\n",
    "def load_CIFAR_batch(filename):\n",
    "    '''load single batch of cifar'''\n",
    "    with open(filename, 'rb') as f:\n",
    "        # 一个样本由标签和图像数据组成\n",
    "        # <1 x label> <3072 x pixel>(3072=32x32x3)\n",
    "        # ...\n",
    "        # <1 x label> <3072 x pixel>\n",
    "        data_dict = p.load(f, encoding='bytes')\n",
    "        images = data_dict[b'data']\n",
    "        labels = data_dict[b'labels']\n",
    "\n",
    "        # 把原始数据结构调整为：BCWH\n",
    "        images = images.reshape(10000, 3, 32, 32)\n",
    "        # tensorflow处理图像数据的结构：BWHC，把通道数据C移动到最后一个维度\n",
    "        images = images.transpose(0,2,3,1)\n",
    "        labels = np.array(labels)\n",
    "\n",
    "        return images, labels\n",
    "\n",
    "# 实现数据集的完整读取\n",
    "def load_CIFAR_data(data_dir):\n",
    "    '''load CIFAR data'''\n",
    "    images_train = []\n",
    "    labels_train = []\n",
    "    for i in range(5):\n",
    "        f = os.path.join(data_dir, 'data_batch_%d' % (i+1))\n",
    "        print('loading', f)\n",
    "        # 调用load_CIFAR_batch()获得批量的图像及其对应的标签\n",
    "        image_batch, label_batch = load_CIFAR_batch(f)\n",
    "        images_train.append(image_batch)\n",
    "        labels_train.append(label_batch)\n",
    "        Xtrain = np.concatenate(images_train)\n",
    "        Ytrain = np.concatenate(labels_train)\n",
    "        del image_batch, label_batch\n",
    "    Xtest, Ytest = load_CIFAR_batch(os.path.join(data_dir, 'test_batch'))\n",
    "    print('finished loadding CIFAR-10 data')\n",
    "\n",
    "    # 返回训练集的图像和标签，测试集的图像和标签\n",
    "    return Xtrain, Ytrain, Xtest, Ytest\n",
    "\n",
    "data_dir = 'data/cifar-10-batches-py/'\n",
    "Xtrain, Ytrain, Xtest, Ytest = load_CIFAR_data(data_dir)"
   ],
   "metadata": {
    "collapsed": false,
    "pycharm": {
     "name": "#%%\n",
     "is_executing": false
    }
   }
  },
  {
   "cell_type": "markdown",
   "source": [
    "### 2.3、显示数据及信息"
   ],
   "metadata": {
    "collapsed": false,
    "pycharm": {
     "name": "#%% md\n"
    }
   }
  },
  {
   "cell_type": "code",
   "execution_count": 25,
   "outputs": [
    {
     "name": "stdout",
     "text": [
      "train data shape: (50000, 32, 32, 3)\ntrain labels shape: (50000,)\ntest data shape: (10000, 32, 32, 3)\ntest labels shape: (10000,)\n"
     ],
     "output_type": "stream"
    }
   ],
   "source": [
    "print('train data shape:', Xtrain.shape)\n",
    "print('train labels shape:', Ytrain.shape)\n",
    "print('test data shape:', Xtest.shape)\n",
    "print('test labels shape:', Ytest.shape)"
   ],
   "metadata": {
    "collapsed": false,
    "pycharm": {
     "name": "#%%\n",
     "is_executing": false
    }
   }
  },
  {
   "cell_type": "markdown",
   "source": [
    "### 2.4 查看单项image和label\n"
   ],
   "metadata": {
    "collapsed": false,
    "pycharm": {
     "name": "#%% md\n"
    }
   }
  },
  {
   "cell_type": "code",
   "execution_count": 26,
   "outputs": [
    {
     "name": "stdout",
     "text": [
      "2\n"
     ],
     "output_type": "stream"
    }
   ],
   "source": [
    "#%matplotlib inline\n",
    "#import matplotlib.pyplot as plt\n",
    "\n",
    "# 查看image\n",
    "#plt.imshow(Xtrain[6])\n",
    "# plt.show()\n",
    "# 查看label\n",
    "# 对应类别信息可查看：http://www.cs.toronto.edu/~kriz/cifar.html\n",
    "print(Ytrain[6])"
   ],
   "metadata": {
    "collapsed": false,
    "pycharm": {
     "name": "#%%\n",
     "is_executing": false
    }
   }
  },
  {
   "cell_type": "markdown",
   "source": [
    "### 2.5 查看多项images与label"
   ],
   "metadata": {
    "collapsed": false,
    "pycharm": {
     "name": "#%% md\n"
    }
   }
  },
  {
   "cell_type": "code",
   "execution_count": 27,
   "outputs": [
    {
     "data": {
      "text/plain": "<Figure size 864x432 with 10 Axes>",
      "image/png": "[encoded data removed]"
     },
     "metadata": {
      "needs_background": "light"
     },
     "output_type": "display_data"
    }
   ],
   "source": [
    "import matplotlib.pyplot as plt\n",
    "\n",
    "# 定义标签字典，每一个数字所代表的图像类别的名称\n",
    "label_dict = {0:'airplane', 1:'automobile', 2:'bird', 3:'cat', 4:'deer',\n",
    "              5:'dog', 6:'frog', 7:'horse', 8:'ship', 9:'truck'}\n",
    "\n",
    "# 定义显示图像数据及其对应标签的函数\n",
    "def plot_images_labels_prediction(images, labels, prediction, idx, num=10):\n",
    "    fig = plt.gcf()\n",
    "    fig.set_size_inches(12,6)\n",
    "    if num>10:\n",
    "        num=10\n",
    "    for i in range(10):\n",
    "        ax = plt.subplot(2,5, 1+i)\n",
    "        ax.imshow(images[idx], cmap='binary')\n",
    "\n",
    "        title = str(i)+','+label_dict[labels[idx]]\n",
    "        if len(prediction)>0:\n",
    "            title+='=>'+label_dict[prediction[idx]]\n",
    "\n",
    "        ax.set_title(title, fontsize=10)\n",
    "\n",
    "        # 索引值加1\n",
    "        idx+=1\n",
    "\n",
    "    plt.show()\n",
    "\n",
    "# 显示图像数据及其对应标签\n",
    "plot_images_labels_prediction(Xtest, Ytest, [], 0, 10)"
   ],
   "metadata": {
    "collapsed": false,
    "pycharm": {
     "name": "#%%\n",
     "is_executing": false
    }
   }
  },
  {
   "cell_type": "markdown",
   "source": [
    "# 数据预处理\n",
    "### 3.1 图像数据预处理\n"
   ],
   "metadata": {
    "collapsed": false,
    "pycharm": {
     "name": "#%% md\n"
    }
   }
  },
  {
   "cell_type": "code",
   "execution_count": 19,
   "outputs": [],
   "source": [
    "# 查看图像数据信息\n",
    "# 显示第一个图的第一个像素点\n",
    "# Xtrain[0][0][0]\n",
    "# array([59, 62, 63], dtype=np.uint8)\n",
    "# 将图像进行数字标准化\n",
    "Xtrain_normalize = Xtrain.astype('float32') / 255.0\n",
    "Xtest_normalize = Xtest.astype('float32') / 255.0\n",
    "# 查看预处理后图像数据信息\n",
    "# Xtrain_normalize[0][0][0]\n",
    "# array([0.23137255, 0.24313726, 0.24705882], dtype=np.float32)"
   ],
   "metadata": {
    "collapsed": false,
    "pycharm": {
     "name": "#%%\n",
     "is_executing": false
    }
   }
  },
  {
   "cell_type": "markdown",
   "source": [
    "### 3.2 标签数据预处理"
   ],
   "metadata": {
    "collapsed": false,
    "pycharm": {
     "name": "#%% md\n"
    }
   }
  },
  {
   "cell_type": "code",
   "execution_count": null,
   "outputs": [],
   "source": [
    "# 查看标签数据\n",
    "Ytrain[:10]\n",
    "# array([6, 9, 9, 4, 1, 1, 2, 7, 8, 3])"
   ],
   "metadata": {
    "collapsed": false,
    "pycharm": {
     "name": "#%%\n"
    }
   }
  },
  {
   "cell_type": "markdown",
   "source": [
    "# 独热编码（One-Hot Encoding）\n",
    "- 能够处理非连续型数值特征\n",
    "在一定程度上也扩充了特征。比如性别本身是一个特征，经过one-hot编码以后，就变成了男或女两个特征。\n"
   ],
   "metadata": {
    "collapsed": false,
    "pycharm": {
     "name": "#%% md\n"
    }
   }
  },
  {
   "cell_type": "code",
   "execution_count": 28,
   "outputs": [
    {
     "name": "stderr",
     "text": [
      "C:\\ProgramData\\Anaconda3\\lib\\site-packages\\sklearn\\preprocessing\\_encoders.py:415: FutureWarning: The handling of integer data will change in version 0.22. Currently, the categories are determined based on the range [0, max(values)], while in the future they will be determined based on the unique values.\nIf you want the future behaviour and silence this warning, you can specify \"categories='auto'\".\nIn case you used a LabelEncoder before this OneHotEncoder to convert the categories to integers, then you can now use the OneHotEncoder directly.\n  warnings.warn(msg, FutureWarning)\n"
     ],
     "output_type": "stream"
    },
    {
     "data": {
      "text/plain": "array([[0., 0., 0., 0., 0., 0., 1., 0., 0., 0.],\n       [0., 0., 0., 0., 0., 0., 0., 0., 0., 1.],\n       [0., 0., 0., 0., 0., 0., 0., 0., 0., 1.],\n       [0., 0., 0., 0., 1., 0., 0., 0., 0., 0.],\n       [0., 1., 0., 0., 0., 0., 0., 0., 0., 0.]])"
     },
     "metadata": {},
     "output_type": "execute_result",
     "execution_count": 28
    }
   ],
   "source": [
    "from sklearn.preprocessing import OneHotEncoder\n",
    "\n",
    "encoder = OneHotEncoder(sparse=False)\n",
    "\n",
    "yy = [[0],[1],[2],[3],[4],[5],[6],[7],[8],[9]]\n",
    "\n",
    "encoder.fit(yy)\n",
    "Ytrain_reshape = Ytrain.reshape(-1,1)\n",
    "Ytrain_onehot = encoder.transform(Ytrain_reshape)\n",
    "Ytest_reshape = Ytest.reshape(-1,1)\n",
    "Ytest_onehot = encoder.transform(Ytest_reshape)\n",
    "\n",
    "Ytrain_onehot.shape\n",
    "(50000, 10)\n",
    "Ytrain[:5]\n",
    "np.array([6, 9, 9, 4, 1])\n",
    "Ytrain_onehot[:5]\n",
    "np.array([[0., 0., 0., 0., 0., 0., 1., 0., 0., 0.],\n",
    "       [0., 0., 0., 0., 0., 0., 0., 0., 0., 1.],\n",
    "       [0., 0., 0., 0., 0., 0., 0., 0., 0., 1.],\n",
    "       [0., 0., 0., 0., 1., 0., 0., 0., 0., 0.],\n",
    "       [0., 1., 0., 0., 0., 0., 0., 0., 0., 0.]])"
   ],
   "metadata": {
    "collapsed": false,
    "pycharm": {
     "name": "#%%\n",
     "is_executing": false
    }
   }
  },
  {
   "cell_type": "markdown",
   "source": [
    "# 建立CIFAR-10图像分类模型\n",
    "- 图像特征提取：通过卷积层1，降采样层1，卷积层2以及降采样层2的处理，提取图像的特征\n",
    "全连接神经网络：全连接层、输出层所组成的网络结构"
   ],
   "metadata": {
    "collapsed": false,
    "pycharm": {
     "name": "#%% md\n"
    }
   }
  },
  {
   "cell_type": "code",
   "execution_count": 29,
   "outputs": [],
   "source": [
    "import tensorflow as tf\n",
    "\n",
    "tf.reset_default_graph()"
   ],
   "metadata": {
    "collapsed": false,
    "pycharm": {
     "name": "#%%\n",
     "is_executing": false
    }
   }
  },
  {
   "cell_type": "markdown",
   "source": [
    "### 4.1 定义共享函数"
   ],
   "metadata": {
    "collapsed": false,
    "pycharm": {
     "name": "#%% md\n"
    }
   }
  },
  {
   "cell_type": "code",
   "execution_count": 30,
   "outputs": [],
   "source": [
    "# 定义权值\n",
    "def weight(shape):\n",
    "    # 在构建模型时，需要使用tf.Variable来创建一个变量\n",
    "    # 在训练时，这个变量不断更新\n",
    "    # 使用函数tf.truncated_normal(截断的正态分布)生成标准差为0.1的随机数来初始化权重\n",
    "    return tf.Variable(tf.truncated_normal(shape, stddev=0.1), name='W')\n",
    "\n",
    "# 定义偏置\n",
    "# 初始化为0.1\n",
    "def bias(shape):\n",
    "    return tf.Variable(tf.constant(0.1, shape=shape), name='b')\n",
    "\n",
    "# 定义卷积操作\n",
    "# 步长为1，padding为‘SAME’\n",
    "def conv2d(x, W):\n",
    "    # tf.nn.conv2d(input, filter, strides, padding, use_cudnn_on_gpu=None, name=None)\n",
    "    return tf.nn.conv2d(x, W, strides=[1,1,1,1], padding='SAME')\n",
    "\n",
    "# 定义池化操作\n",
    "# 步长为2，即原尺寸的长和宽各除以2\n",
    "def max_pool_2x2(x):\n",
    "    # tf.nn.max_pool(value, ksize, strides, padding, name=None)\n",
    "    return tf.nn.max_pool(x, ksize=[1,2,2,1], strides=[1,2,2,1], padding='SAME')"
   ],
   "metadata": {
    "collapsed": false,
    "pycharm": {
     "name": "#%%\n",
     "is_executing": false
    }
   }
  },
  {
   "cell_type": "markdown",
   "source": [
    "### 4.2 定义网络结构"
   ],
   "metadata": {
    "collapsed": false,
    "pycharm": {
     "name": "#%% md\n"
    }
   }
  },
  {
   "cell_type": "code",
   "execution_count": 31,
   "outputs": [
    {
     "name": "stdout",
     "text": [
      "WARNING:tensorflow:From <ipython-input-31-4c7d37d758af>:40: calling dropout (from tensorflow.python.ops.nn_ops) with keep_prob is deprecated and will be removed in a future version.\nInstructions for updating:\nPlease use `rate` instead of `keep_prob`. Rate should be set to `rate = 1 - keep_prob`.\n"
     ],
     "output_type": "stream"
    }
   ],
   "source": [
    "# 输入层\n",
    "# 32x32图像，通道为3（RGB）\n",
    "with tf.name_scope('input'):\n",
    "    x = tf.placeholder('float', shape=[None, 32, 32, 3], name='x')\n",
    "\n",
    "# 第1个卷积层\n",
    "# 输入通道：3，输出通道：32，卷积后图像尺寸不变，依然是32x32\n",
    "with tf.name_scope('conv_1'):\n",
    "    W1 = weight([3,3,3,32]) # [k_width, k_height, input_chn, output_chn]\n",
    "    b1 = bias([32]) # 与output_chn一致\n",
    "    conv_1 = conv2d(x, W1) + b1\n",
    "    conv_1 = tf.nn.relu(conv_1)\n",
    "\n",
    "# 第1个池化层\n",
    "# 将32x32图像缩小为16x16，池化不改变通道数量，因此依然是32个\n",
    "with tf.name_scope('pool_1'):\n",
    "    pool_1 = max_pool_2x2(conv_1)\n",
    "\n",
    "# 第2个卷积层\n",
    "# 输入通道：32，输出通道：64，卷积后图像尺寸不变，依然是16x16\n",
    "with tf.name_scope('conv_2'):\n",
    "    W2 = weight([3,3,32,64]) # [k_width, k_height, input_chn, output_chn]\n",
    "    b2 = bias([64]) # 与output_chn一致\n",
    "    conv_2 = conv2d(pool_1, W2) + b2\n",
    "    conv_2 = tf.nn.relu(conv_2)\n",
    "\n",
    "# 第2个池化层\n",
    "# 将16x16图像缩小为8x8，池化不改变通道数量，因此依然是64个\n",
    "with tf.name_scope('pool_2'):\n",
    "    pool_2 = max_pool_2x2(conv_2)\n",
    "\n",
    "# 全连接层\n",
    "# 将第2个池化层的64个8x8的图像转换为一维的向量，长度是64*8*8=4096\n",
    "# 128个神经元\n",
    "with tf.name_scope('fc'):\n",
    "    W3 = weight([4096, 128])# 有128个神经元\n",
    "    b3 = bias([128])\n",
    "    flat = tf.reshape(pool_2, [-1, 4096])\n",
    "    h = tf.nn.relu(tf.matmul(flat, W3) + b3)\n",
    "    h_dropout = tf.nn.dropout(h, keep_prob=0.8)\n",
    "\n",
    "# 输出层\n",
    "# 输出层共有10个神经元，对应到0-9这10个类别\n",
    "with tf.name_scope('output_layer'):\n",
    "    W4 = weight([128, 10])\n",
    "    b4 = bias([10])\n",
    "    pred = tf.nn.softmax(tf.matmul(h_dropout, W4) + b4)"
   ],
   "metadata": {
    "collapsed": false,
    "pycharm": {
     "name": "#%%\n",
     "is_executing": false
    }
   }
  },
  {
   "cell_type": "markdown",
   "source": [
    "### 4.3 构建模型"
   ],
   "metadata": {
    "collapsed": false,
    "pycharm": {
     "name": "#%% md\n"
    }
   }
  },
  {
   "cell_type": "code",
   "execution_count": 32,
   "outputs": [
    {
     "name": "stdout",
     "text": [
      "WARNING:tensorflow:From <ipython-input-32-627abd4e8bbd>:8: softmax_cross_entropy_with_logits (from tensorflow.python.ops.nn_ops) is deprecated and will be removed in a future version.\nInstructions for updating:\n\nFuture major versions of TensorFlow will allow gradients to flow\ninto the labels input on backprop by default.\n\nSee `tf.nn.softmax_cross_entropy_with_logits_v2`.\n\n"
     ],
     "output_type": "stream"
    }
   ],
   "source": [
    "with tf.name_scope('optimizer'):\n",
    "    # 定义占位符\n",
    "    y = tf.placeholder('float', shape=[None, 10], name='label')\n",
    "\n",
    "    # 定义损失函数\n",
    "    loss_function = tf.reduce_mean(\n",
    "        tf.nn.softmax_cross_entropy_with_logits(\n",
    "            logits=pred, labels=y))\n",
    "\n",
    "    # 定义优化器\n",
    "    optimizer = tf.train.AdamOptimizer(\n",
    "        learning_rate=0.0001).minimize(loss_function)"
   ],
   "metadata": {
    "collapsed": false,
    "pycharm": {
     "name": "#%%\n",
     "is_executing": false
    }
   }
  },
  {
   "cell_type": "markdown",
   "source": [
    "### 4.4 定义准确率"
   ],
   "metadata": {
    "collapsed": false,
    "pycharm": {
     "name": "#%% md\n"
    }
   }
  },
  {
   "cell_type": "code",
   "execution_count": 33,
   "outputs": [
    {
     "name": "stdout",
     "text": [
      "WARNING:tensorflow:From <ipython-input-33-0883d30b56e4>:2: arg_max (from tensorflow.python.ops.gen_math_ops) is deprecated and will be removed in a future version.\nInstructions for updating:\nUse `tf.math.argmax` instead\n"
     ],
     "output_type": "stream"
    }
   ],
   "source": [
    "with tf.name_scope('evaluation'):\n",
    "    correct_prediction = tf.equal(tf.argmax(pred, 1), tf.arg_max(y, 1))\n",
    "    accuracy = tf.reduce_mean(tf.cast(correct_prediction, 'float'))"
   ],
   "metadata": {
    "collapsed": false,
    "pycharm": {
     "name": "#%%\n",
     "is_executing": false
    }
   }
  },
  {
   "cell_type": "markdown",
   "source": [
    "# 5 训练模型\n",
    "### 5.1 启动会话"
   ],
   "metadata": {
    "collapsed": false,
    "pycharm": {
     "name": "#%% md\n"
    }
   }
  },
  {
   "cell_type": "code",
   "execution_count": 34,
   "outputs": [],
   "source": [
    "import os\n",
    "from time import time\n",
    "\n",
    "train_epochs = 100\n",
    "batch_size = 100\n",
    "total_batch = int(len(Xtrain) / batch_size)\n",
    "epoch_list = []\n",
    "accuracy_list = []\n",
    "loss_list = []\n",
    "\n",
    "epoch = tf.Variable(0, name='epoch', trainable=False)\n",
    "\n",
    "startTime = time()\n",
    "\n",
    "sess = tf.Session()\n",
    "init = tf.global_variables_initializer()\n",
    "sess.run(init)"
   ],
   "metadata": {
    "collapsed": false,
    "pycharm": {
     "name": "#%%\n",
     "is_executing": false
    }
   }
  },
  {
   "cell_type": "markdown",
   "source": [
    "### 5.2 断点续训\n"
   ],
   "metadata": {
    "collapsed": false,
    "pycharm": {
     "name": "#%% md\n"
    }
   }
  },
  {
   "cell_type": "code",
   "execution_count": 35,
   "outputs": [
    {
     "name": "stdout",
     "text": [
      "Training from scratch.\nTraining starts from 1 epoch.\n"
     ],
     "output_type": "stream"
    }
   ],
   "source": [
    "# 设置检查点存储目录\n",
    "ckpt_dir = 'CIFAR10_log'\n",
    "if not os.path.exists(ckpt_dir):\n",
    "    os.makedirs(ckpt_dir)\n",
    "\n",
    "# 生成saver\n",
    "saver = tf.train.Saver(max_to_keep=1)\n",
    "\n",
    "# 如果有检查点文件，读取最新的检查点文件，恢复各种变量值\n",
    "ckpt = tf.train.latest_checkpoint(ckpt_dir)\n",
    "if ckpt != None:\n",
    "    saver.restore(sess, ckpt)# 加载所有的参数\n",
    "    # 从这里开始就可以直接使用模型进行预测，或者接着训练了\n",
    "else:\n",
    "    print('Training from scratch.')\n",
    "\n",
    "# 获取续训参数\n",
    "start = sess.run(epoch)\n",
    "print('Training starts from {} epoch.'.format(start+1))"
   ],
   "metadata": {
    "collapsed": false,
    "pycharm": {
     "name": "#%%\n",
     "is_executing": false
    }
   }
  },
  {
   "cell_type": "markdown",
   "source": [
    "### 5.3 迭代训练"
   ],
   "metadata": {
    "collapsed": false,
    "pycharm": {
     "name": "#%% md\n"
    }
   }
  },
  {
   "cell_type": "code",
   "execution_count": 36,
   "outputs": [
    {
     "name": "stdout",
     "text": [
      "Step0 finished\n",
      "Step100 finished\n",
      "Step200 finished\n",
      "Step300 finished\n",
      "Step400 finished\n",
      "Train epoch: 01 Loss= 2.116852 Accuracy= 0.36\n",
      "Step0 finished\n",
      "Step100 finished\n",
      "Step200 finished\n",
      "Step300 finished\n",
      "Step400 finished\n",
      "Train epoch: 02 Loss= 2.043929 Accuracy= 0.43\nWARNING:tensorflow:From C:\\ProgramData\\Anaconda3\\lib\\site-packages\\tensorflow\\python\\training\\saver.py:966: remove_checkpoint (from tensorflow.python.training.checkpoint_management) is deprecated and will be removed in a future version.\nInstructions for updating:\nUse standard file APIs to delete files with this prefix.\n",
      "Step0 finished\n",
      "Step100 finished\n",
      "Step200 finished\n",
      "Step300 finished\n",
      "Step400 finished\n",
      "Train epoch: 03 Loss= 2.056693 Accuracy= 0.39\n",
      "Step0 finished\n",
      "Step100 finished\n",
      "Step200 finished\n",
      "Step300 finished\n",
      "Step400 finished\n",
      "Train epoch: 04 Loss= 2.051888 Accuracy= 0.41\n",
      "Step0 finished\n",
      "Step100 finished\n",
      "Step200 finished\n",
      "Step300 finished\n",
      "Step400 finished\n",
      "Train epoch: 05 Loss= 2.030031 Accuracy= 0.42\n",
      "Step0 finished\n",
      "Step100 finished\n",
      "Step200 finished\n",
      "Step300 finished\n",
      "Step400 finished\n",
      "Train epoch: 06 Loss= 1.998948 Accuracy= 0.46\n",
      "Step0 finished\n",
      "Step100 finished\n",
      "Step200 finished\n",
      "Step300 finished\n",
      "Step400 finished\n",
      "Train epoch: 07 Loss= 1.989399 Accuracy= 0.46\n",
      "Step0 finished\n",
      "Step100 finished\n",
      "Step200 finished\n",
      "Step300 finished\n",
      "Step400 finished\n",
      "Train epoch: 08 Loss= 1.995765 Accuracy= 0.47\n",
      "Step0 finished\n",
      "Step100 finished\n",
      "Step200 finished\n",
      "Step300 finished\n",
      "Step400 finished\n",
      "Train epoch: 09 Loss= 1.952131 Accuracy= 0.54\n",
      "Step0 finished\n",
      "Step100 finished\n",
      "Step200 finished\n",
      "Step300 finished\n",
      "Step400 finished\n",
      "Train epoch: 10 Loss= 1.991516 Accuracy= 0.45\n",
      "Step0 finished\n",
      "Step100 finished\n",
      "Step200 finished\n",
      "Step300 finished\n",
      "Step400 finished\n",
      "Train epoch: 11 Loss= 1.965519 Accuracy= 0.49\n",
      "Step0 finished\n",
      "Step100 finished\n",
      "Step200 finished\n",
      "Step300 finished\n",
      "Step400 finished\n",
      "Train epoch: 12 Loss= 1.937613 Accuracy= 0.54\n",
      "Step0 finished\n",
      "Step100 finished\n",
      "Step200 finished\n",
      "Step300 finished\n",
      "Step400 finished\n",
      "Train epoch: 13 Loss= 1.912822 Accuracy= 0.59\n",
      "Step0 finished\n",
      "Step100 finished\n",
      "Step200 finished\n",
      "Step300 finished\n",
      "Step400 finished\n",
      "Train epoch: 14 Loss= 1.927662 Accuracy= 0.57\n",
      "Step0 finished\n",
      "Step100 finished\n",
      "Step200 finished\n",
      "Step300 finished\n",
      "Step400 finished\n",
      "Train epoch: 15 Loss= 1.928727 Accuracy= 0.54\n",
      "Step0 finished\n",
      "Step100 finished\n",
      "Step200 finished\n",
      "Step300 finished\n",
      "Step400 finished\n",
      "Train epoch: 16 Loss= 1.895146 Accuracy= 0.58\n",
      "Step0 finished\n",
      "Step100 finished\n",
      "Step200 finished\n",
      "Step300 finished\n",
      "Step400 finished\n",
      "Train epoch: 17 Loss= 1.904799 Accuracy= 0.56\n",
      "Step0 finished\n",
      "Step100 finished\n",
      "Step200 finished\n",
      "Step300 finished\n",
      "Step400 finished\n",
      "Train epoch: 18 Loss= 1.902763 Accuracy= 0.56\n",
      "Step0 finished\n",
      "Step100 finished\n",
      "Step200 finished\n",
      "Step300 finished\n",
      "Step400 finished\n",
      "Train epoch: 19 Loss= 1.904174 Accuracy= 0.55\n",
      "Step0 finished\n",
      "Step100 finished\n",
      "Step200 finished\n",
      "Step300 finished\n",
      "Step400 finished\n",
      "Train epoch: 20 Loss= 1.909052 Accuracy= 0.53\n",
      "Step0 finished\n",
      "Step100 finished\n",
      "Step200 finished\n",
      "Step300 finished\n",
      "Step400 finished\n",
      "Train epoch: 21 Loss= 1.879066 Accuracy= 0.58\n",
      "Step0 finished\n",
      "Step100 finished\n",
      "Step200 finished\n",
      "Step300 finished\n",
      "Step400 finished\n",
      "Train epoch: 22 Loss= 1.896951 Accuracy= 0.56\n",
      "Step0 finished\n",
      "Step100 finished\n",
      "Step200 finished\n",
      "Step300 finished\n",
      "Step400 finished\n",
      "Train epoch: 23 Loss= 1.868635 Accuracy= 0.61\n",
      "Step0 finished\n",
      "Step100 finished\n",
      "Step200 finished\n",
      "Step300 finished\n",
      "Step400 finished\n",
      "Train epoch: 24 Loss= 1.854165 Accuracy= 0.61\n",
      "Step0 finished\n",
      "Step100 finished\n",
      "Step200 finished\n",
      "Step300 finished\n",
      "Step400 finished\n",
      "Train epoch: 25 Loss= 1.866959 Accuracy= 0.64\n",
      "Step0 finished\n",
      "Step100 finished\n",
      "Step200 finished\n",
      "Step300 finished\n",
      "Step400 finished\n",
      "Train epoch: 26 Loss= 1.858433 Accuracy= 0.59\n",
      "Step0 finished\n",
      "Step100 finished\n",
      "Step200 finished\n",
      "Step300 finished\n",
      "Step400 finished\n",
      "Train epoch: 27 Loss= 1.855350 Accuracy= 0.62\n",
      "Step0 finished\n",
      "Step100 finished\n",
      "Step200 finished\n",
      "Step300 finished\n",
      "Step400 finished\n",
      "Train epoch: 28 Loss= 1.888501 Accuracy= 0.59\n",
      "Step0 finished\n",
      "Step100 finished\n",
      "Step200 finished\n",
      "Step300 finished\n",
      "Step400 finished\n",
      "Train epoch: 29 Loss= 1.837826 Accuracy= 0.64\n",
      "Step0 finished\n",
      "Step100 finished\n",
      "Step200 finished\n",
      "Step300 finished\n",
      "Step400 finished\n",
      "Train epoch: 30 Loss= 1.880888 Accuracy= 0.56\n",
      "Step0 finished\n",
      "Step100 finished\n",
      "Step200 finished\n",
      "Step300 finished\n",
      "Step400 finished\n",
      "Train epoch: 31 Loss= 1.832061 Accuracy= 0.65\n",
      "Step0 finished\n",
      "Step100 finished\n",
      "Step200 finished\n",
      "Step300 finished\n",
      "Step400 finished\n",
      "Train epoch: 32 Loss= 1.847157 Accuracy= 0.61\n",
      "Step0 finished\n",
      "Step100 finished\n",
      "Step200 finished\n",
      "Step300 finished\n",
      "Step400 finished\n",
      "Train epoch: 33 Loss= 1.809215 Accuracy= 0.66\n",
      "Step0 finished\n",
      "Step100 finished\n",
      "Step200 finished\n",
      "Step300 finished\n",
      "Step400 finished\n",
      "Train epoch: 34 Loss= 1.825843 Accuracy= 0.66\n",
      "Step0 finished\n",
      "Step100 finished\n",
      "Step200 finished\n",
      "Step300 finished\n",
      "Step400 finished\n",
      "Train epoch: 35 Loss= 1.822687 Accuracy= 0.65\n",
      "Step0 finished\n",
      "Step100 finished\n",
      "Step200 finished\n",
      "Step300 finished\n",
      "Step400 finished\n",
      "Train epoch: 36 Loss= 1.833576 Accuracy= 0.64\n",
      "Step0 finished\n",
      "Step100 finished\n",
      "Step200 finished\n",
      "Step300 finished\n",
      "Step400 finished\n",
      "Train epoch: 37 Loss= 1.857663 Accuracy= 0.6\n",
      "Step0 finished\n",
      "Step100 finished\n",
      "Step200 finished\n",
      "Step300 finished\n",
      "Step400 finished\n",
      "Train epoch: 38 Loss= 1.818969 Accuracy= 0.66\n",
      "Step0 finished\n",
      "Step100 finished\n",
      "Step200 finished\n",
      "Step300 finished\n",
      "Step400 finished\n",
      "Train epoch: 39 Loss= 1.822994 Accuracy= 0.64\n",
      "Step0 finished\n",
      "Step100 finished\n",
      "Step200 finished\n",
      "Step300 finished\n",
      "Step400 finished\n",
      "Train epoch: 40 Loss= 1.836488 Accuracy= 0.63\n",
      "Step0 finished\n",
      "Step100 finished\n",
      "Step200 finished\n",
      "Step300 finished\n",
      "Step400 finished\n",
      "Train epoch: 41 Loss= 1.833263 Accuracy= 0.64\n",
      "Step0 finished\n",
      "Step100 finished\n",
      "Step200 finished\n",
      "Step300 finished\n",
      "Step400 finished\n",
      "Train epoch: 42 Loss= 1.799861 Accuracy= 0.67\n",
      "Step0 finished\n",
      "Step100 finished\n",
      "Step200 finished\n",
      "Step300 finished\n",
      "Step400 finished\n",
      "Train epoch: 43 Loss= 1.813233 Accuracy= 0.66\n",
      "Step0 finished\n",
      "Step100 finished\n",
      "Step200 finished\n",
      "Step300 finished\n",
      "Step400 finished\n",
      "Train epoch: 44 Loss= 1.822710 Accuracy= 0.65\n",
      "Step0 finished\n",
      "Step100 finished\n",
      "Step200 finished\n",
      "Step300 finished\n",
      "Step400 finished\n",
      "Train epoch: 45 Loss= 1.814060 Accuracy= 0.66\n",
      "Step0 finished\n",
      "Step100 finished\n",
      "Step200 finished\n",
      "Step300 finished\n",
      "Step400 finished\n",
      "Train epoch: 46 Loss= 1.826209 Accuracy= 0.64\n",
      "Step0 finished\n",
      "Step100 finished\n",
      "Step200 finished\n",
      "Step300 finished\n",
      "Step400 finished\n",
      "Train epoch: 47 Loss= 1.779536 Accuracy= 0.68\n",
      "Step0 finished\n",
      "Step100 finished\n",
      "Step200 finished\n",
      "Step300 finished\n",
      "Step400 finished\n",
      "Train epoch: 48 Loss= 1.802883 Accuracy= 0.67\n",
      "Step0 finished\n",
      "Step100 finished\n",
      "Step200 finished\n",
      "Step300 finished\n",
      "Step400 finished\n",
      "Train epoch: 49 Loss= 1.783142 Accuracy= 0.7\n",
      "Step0 finished\n",
      "Step100 finished\n",
      "Step200 finished\n",
      "Step300 finished\n",
      "Step400 finished\n",
      "Train epoch: 50 Loss= 1.796095 Accuracy= 0.67\n",
      "Step0 finished\n",
      "Step100 finished\n",
      "Step200 finished\n",
      "Step300 finished\n",
      "Step400 finished\n",
      "Train epoch: 51 Loss= 1.785015 Accuracy= 0.69\n",
      "Step0 finished\n",
      "Step100 finished\n",
      "Step200 finished\n",
      "Step300 finished\n",
      "Step400 finished\n",
      "Train epoch: 52 Loss= 1.794568 Accuracy= 0.66\n",
      "Step0 finished\n",
      "Step100 finished\n",
      "Step200 finished\n",
      "Step300 finished\n",
      "Step400 finished\n",
      "Train epoch: 53 Loss= 1.800868 Accuracy= 0.67\n",
      "Step0 finished\n",
      "Step100 finished\n",
      "Step200 finished\n",
      "Step300 finished\n",
      "Step400 finished\n",
      "Train epoch: 54 Loss= 1.807363 Accuracy= 0.66\n",
      "Step0 finished\n",
      "Step100 finished\n",
      "Step200 finished\n",
      "Step300 finished\n",
      "Step400 finished\n",
      "Train epoch: 55 Loss= 1.785410 Accuracy= 0.68\n",
      "Step0 finished\n",
      "Step100 finished\n",
      "Step200 finished\n",
      "Step300 finished\n",
      "Step400 finished\n",
      "Train epoch: 56 Loss= 1.803783 Accuracy= 0.67\n",
      "Step0 finished\n",
      "Step100 finished\n",
      "Step200 finished\n",
      "Step300 finished\n",
      "Step400 finished\n",
      "Train epoch: 57 Loss= 1.793842 Accuracy= 0.7\n",
      "Step0 finished\n",
      "Step100 finished\n",
      "Step200 finished\n",
      "Step300 finished\n",
      "Step400 finished\n",
      "Train epoch: 58 Loss= 1.786895 Accuracy= 0.67\n",
      "Step0 finished\n",
      "Step100 finished\n",
      "Step200 finished\n",
      "Step300 finished\n",
      "Step400 finished\n",
      "Train epoch: 59 Loss= 1.795007 Accuracy= 0.68\n",
      "Step0 finished\n",
      "Step100 finished\n",
      "Step200 finished\n",
      "Step300 finished\n",
      "Step400 finished\n",
      "Train epoch: 60 Loss= 1.785667 Accuracy= 0.68\n",
      "Step0 finished\n",
      "Step100 finished\n",
      "Step200 finished\n",
      "Step300 finished\n",
      "Step400 finished\n",
      "Train epoch: 61 Loss= 1.773468 Accuracy= 0.69\n",
      "Step0 finished\n",
      "Step100 finished\n",
      "Step200 finished\n",
      "Step300 finished\n",
      "Step400 finished\n",
      "Train epoch: 62 Loss= 1.786308 Accuracy= 0.66\n",
      "Step0 finished\n",
      "Step100 finished\n",
      "Step200 finished\n",
      "Step300 finished\n",
      "Step400 finished\n",
      "Train epoch: 63 Loss= 1.755325 Accuracy= 0.71\n",
      "Step0 finished\n",
      "Step100 finished\n",
      "Step200 finished\n",
      "Step300 finished\n",
      "Step400 finished\n",
      "Train epoch: 64 Loss= 1.777764 Accuracy= 0.68\n",
      "Step0 finished\n",
      "Step100 finished\n",
      "Step200 finished\n",
      "Step300 finished\n",
      "Step400 finished\n",
      "Train epoch: 65 Loss= 1.757562 Accuracy= 0.72\n",
      "Step0 finished\n",
      "Step100 finished\n",
      "Step200 finished\n",
      "Step300 finished\n",
      "Step400 finished\n",
      "Train epoch: 66 Loss= 1.745353 Accuracy= 0.73\n",
      "Step0 finished\n",
      "Step100 finished\n",
      "Step200 finished\n",
      "Step300 finished\n",
      "Step400 finished\n",
      "Train epoch: 67 Loss= 1.741232 Accuracy= 0.73\n",
      "Step0 finished\n",
      "Step100 finished\n",
      "Step200 finished\n",
      "Step300 finished\n",
      "Step400 finished\n",
      "Train epoch: 68 Loss= 1.760768 Accuracy= 0.7\n",
      "Step0 finished\n",
      "Step100 finished\n",
      "Step200 finished\n",
      "Step300 finished\n",
      "Step400 finished\n",
      "Train epoch: 69 Loss= 1.767043 Accuracy= 0.7\n",
      "Step0 finished\n",
      "Step100 finished\n",
      "Step200 finished\n",
      "Step300 finished\n",
      "Step400 finished\n",
      "Train epoch: 70 Loss= 1.753162 Accuracy= 0.73\n",
      "Step0 finished\n",
      "Step100 finished\n",
      "Step200 finished\n",
      "Step300 finished\n",
      "Step400 finished\n",
      "Train epoch: 71 Loss= 1.751355 Accuracy= 0.7\n",
      "Step0 finished\n",
      "Step100 finished\n",
      "Step200 finished\n",
      "Step300 finished\n",
      "Step400 finished\n",
      "Train epoch: 72 Loss= 1.737655 Accuracy= 0.74\n",
      "Step0 finished\n",
      "Step100 finished\n",
      "Step200 finished\n",
      "Step300 finished\n",
      "Step400 finished\n",
      "Train epoch: 73 Loss= 1.764816 Accuracy= 0.72\n",
      "Step0 finished\n",
      "Step100 finished\n",
      "Step200 finished\n",
      "Step300 finished\n",
      "Step400 finished\n",
      "Train epoch: 74 Loss= 1.728721 Accuracy= 0.75\n",
      "Step0 finished\n",
      "Step100 finished\n",
      "Step200 finished\n",
      "Step300 finished\n",
      "Step400 finished\n",
      "Train epoch: 75 Loss= 1.765137 Accuracy= 0.7\n",
      "Step0 finished\n",
      "Step100 finished\n",
      "Step200 finished\n",
      "Step300 finished\n",
      "Step400 finished\n",
      "Train epoch: 76 Loss= 1.769447 Accuracy= 0.69\n",
      "Step0 finished\n",
      "Step100 finished\n",
      "Step200 finished\n",
      "Step300 finished\n",
      "Step400 finished\n",
      "Train epoch: 77 Loss= 1.731763 Accuracy= 0.74\n",
      "Step0 finished\n",
      "Step100 finished\n",
      "Step200 finished\n",
      "Step300 finished\n",
      "Step400 finished\n",
      "Train epoch: 78 Loss= 1.732784 Accuracy= 0.74\n",
      "Step0 finished\n",
      "Step100 finished\n",
      "Step200 finished\n",
      "Step300 finished\n",
      "Step400 finished\n",
      "Train epoch: 79 Loss= 1.748445 Accuracy= 0.72\n",
      "Step0 finished\n",
      "Step100 finished\n",
      "Step200 finished\n",
      "Step300 finished\n",
      "Step400 finished\n",
      "Train epoch: 80 Loss= 1.736589 Accuracy= 0.72\n",
      "Step0 finished\n",
      "Step100 finished\n",
      "Step200 finished\n",
      "Step300 finished\n",
      "Step400 finished\n",
      "Train epoch: 81 Loss= 1.725064 Accuracy= 0.75\n",
      "Step0 finished\n",
      "Step100 finished\n",
      "Step200 finished\n",
      "Step300 finished\n",
      "Step400 finished\n",
      "Train epoch: 82 Loss= 1.749768 Accuracy= 0.72\n",
      "Step0 finished\n",
      "Step100 finished\n",
      "Step200 finished\n",
      "Step300 finished\n",
      "Step400 finished\n",
      "Train epoch: 83 Loss= 1.741860 Accuracy= 0.74\n",
      "Step0 finished\n",
      "Step100 finished\n",
      "Step200 finished\n",
      "Step300 finished\n",
      "Step400 finished\n",
      "Train epoch: 84 Loss= 1.764446 Accuracy= 0.7\n",
      "Step0 finished\n",
      "Step100 finished\n",
      "Step200 finished\n",
      "Step300 finished\n",
      "Step400 finished\n",
      "Train epoch: 85 Loss= 1.739630 Accuracy= 0.74\n",
      "Step0 finished\n",
      "Step100 finished\n",
      "Step200 finished\n",
      "Step300 finished\n",
      "Step400 finished\n",
      "Train epoch: 86 Loss= 1.743386 Accuracy= 0.73\n",
      "Step0 finished\n",
      "Step100 finished\n",
      "Step200 finished\n",
      "Step300 finished\n",
      "Step400 finished\n",
      "Train epoch: 87 Loss= 1.721868 Accuracy= 0.75\n",
      "Step0 finished\n",
      "Step100 finished\n",
      "Step200 finished\n",
      "Step300 finished\n",
      "Step400 finished\n",
      "Train epoch: 88 Loss= 1.728404 Accuracy= 0.73\n",
      "Step0 finished\n",
      "Step100 finished\n",
      "Step200 finished\n",
      "Step300 finished\n",
      "Step400 finished\n",
      "Train epoch: 89 Loss= 1.727165 Accuracy= 0.74\n",
      "Step0 finished\n",
      "Step100 finished\n",
      "Step200 finished\n",
      "Step300 finished\n",
      "Step400 finished\n",
      "Train epoch: 90 Loss= 1.696183 Accuracy= 0.78\n",
      "Step0 finished\n",
      "Step100 finished\n",
      "Step200 finished\n",
      "Step300 finished\n",
      "Step400 finished\n",
      "Train epoch: 91 Loss= 1.743458 Accuracy= 0.74\n",
      "Step0 finished\n",
      "Step100 finished\n",
      "Step200 finished\n",
      "Step300 finished\n",
      "Step400 finished\n",
      "Train epoch: 92 Loss= 1.707873 Accuracy= 0.77\n",
      "Step0 finished\n",
      "Step100 finished\n",
      "Step200 finished\n",
      "Step300 finished\n",
      "Step400 finished\n",
      "Train epoch: 93 Loss= 1.706336 Accuracy= 0.77\n",
      "Step0 finished\n",
      "Step100 finished\n",
      "Step200 finished\n",
      "Step300 finished\n",
      "Step400 finished\n",
      "Train epoch: 94 Loss= 1.700538 Accuracy= 0.75\n",
      "Step0 finished\n",
      "Step100 finished\n",
      "Step200 finished\n",
      "Step300 finished\n",
      "Step400 finished\n",
      "Train epoch: 95 Loss= 1.713080 Accuracy= 0.77\n",
      "Step0 finished\n",
      "Step100 finished\n",
      "Step200 finished\n",
      "Step300 finished\n",
      "Step400 finished\n",
      "Train epoch: 96 Loss= 1.712313 Accuracy= 0.76\n",
      "Step0 finished\n",
      "Step100 finished\n",
      "Step200 finished\n",
      "Step300 finished\n",
      "Step400 finished\n",
      "Train epoch: 97 Loss= 1.718718 Accuracy= 0.76\n",
      "Step0 finished\n",
      "Step100 finished\n",
      "Step200 finished\n",
      "Step300 finished\n",
      "Step400 finished\n",
      "Train epoch: 98 Loss= 1.712547 Accuracy= 0.77\n",
      "Step0 finished\n",
      "Step100 finished\n",
      "Step200 finished\n",
      "Step300 finished\n",
      "Step400 finished\n",
      "Train epoch: 99 Loss= 1.720467 Accuracy= 0.75\n",
      "Step0 finished\n",
      "Step100 finished\n",
      "Step200 finished\n",
      "Step300 finished\n",
      "Step400 finished\n",
      "Train epoch: 100 Loss= 1.700934 Accuracy= 0.76\n",
      "Train finished takes: 5946.93797659874\n"
     ],
     "output_type": "stream"
    }
   ],
   "source": [
    "def get_train_batch(number, batch_size):\n",
    "    return Xtrain_normalize[number * batch_size:(number+1) * batch_size],\\\n",
    "            Ytrain_onehot[number * batch_size:(number+1) * batch_size]\n",
    "\n",
    "for ep in range(start, train_epochs):\n",
    "    for i in range(total_batch):\n",
    "        batch_x, batch_y = get_train_batch(i, batch_size)\n",
    "        sess.run(optimizer, feed_dict={x:batch_x, y:batch_y})\n",
    "        if i % 100 ==0:\n",
    "            print('Step{}'.format(i), 'finished')\n",
    "\n",
    "    loss, acc = sess.run([loss_function, accuracy], feed_dict={x:batch_x, y:batch_y})\n",
    "    epoch_list.append(ep+1)\n",
    "    loss_list.append(loss)\n",
    "    accuracy_list.append(acc)\n",
    "\n",
    "    print('Train epoch:', '%02d' % (sess.run(epoch)+1),\n",
    "          'Loss=', '{:6f}'.format(loss), 'Accuracy=', acc)\n",
    "\n",
    "    # 保存检查点\n",
    "    saver.save(sess, ckpt_dir+'CIFAR10_cnn_model.ckpt', global_step=ep+1)\n",
    "    sess.run(epoch.assign(ep+1))\n",
    "\n",
    "duration = time() - startTime\n",
    "print('Train finished takes:', duration)"
   ],
   "metadata": {
    "collapsed": false,
    "pycharm": {
     "name": "#%%\n",
     "is_executing": false
    }
   }
  },
  {
   "cell_type": "markdown",
   "source": [
    "# 6 评估模型及预测\n",
    "### 6.1 计算测试集上的准确率"
   ],
   "metadata": {
    "collapsed": false,
    "pycharm": {
     "name": "#%% md\n"
    }
   }
  },
  {
   "cell_type": "code",
   "execution_count": 38,
   "outputs": [
    {
     "name": "stdout",
     "text": [
      "Test accuracy:0.664500\n"
     ],
     "output_type": "stream"
    }
   ],
   "source": [
    "test_total_batch = int(len(Xtest_normalize) / batch_size)\n",
    "test_acc_sum=0.0\n",
    "for i in range(test_total_batch):\n",
    "    test_image_batch = Xtest_normalize[i*batch_size:(i+1)*batch_size]\n",
    "    test_label_batch = Ytest_onehot[i*batch_size:(i+1)*batch_size]\n",
    "    test_batch_acc = sess.run(accuracy, feed_dict={x:test_image_batch, y:test_label_batch})\n",
    "    test_acc_sum += test_batch_acc\n",
    "\n",
    "test_acc = float(test_acc_sum / test_total_batch)\n",
    "print('Test accuracy:{:6f}'.format(test_acc))"
   ],
   "metadata": {
    "collapsed": false,
    "pycharm": {
     "name": "#%%\n",
     "is_executing": false
    }
   }
  },
  {
   "cell_type": "markdown",
   "source": [
    "### 6.2 利用模型进行预测"
   ],
   "metadata": {
    "collapsed": false,
    "pycharm": {
     "name": "#%% md\n"
    }
   }
  },
  {
   "cell_type": "code",
   "execution_count": 41,
   "outputs": [],
   "source": [
    "test_pred = sess.run(pred, feed_dict={x:Xtest_normalize[:10]})\n",
    "prediction_result = sess.run(tf.argmax(test_pred, 1))"
   ],
   "metadata": {
    "collapsed": false,
    "pycharm": {
     "name": "#%%\n",
     "is_executing": false
    }
   }
  },
  {
   "cell_type": "markdown",
   "source": [
    "### 6.3 可视化预测结果"
   ],
   "metadata": {
    "collapsed": false,
    "pycharm": {
     "name": "#%% md\n"
    }
   }
  },
  {
   "cell_type": "code",
   "execution_count": 42,
   "outputs": [
    {
     "data": {
      "text/plain": "<Figure size 864x432 with 10 Axes>",
      "image/png": "[encoded data removed]"
     },
     "metadata": {
      "needs_background": "light"
     },
     "output_type": "display_data"
    }
   ],
   "source": [
    "plot_images_labels_prediction(Xtest, Ytest, prediction_result, 0, 10)\n",
    "\n"
   ],
   "metadata": {
    "collapsed": false,
    "pycharm": {
     "name": "#%%\n",
     "is_executing": false
    }
   }
  }
 ],
 "metadata": {
  "language_info": {
   "codemirror_mode": {
    "name": "ipython",
    "version": 2
   },
   "file_extension": ".py",
   "mimetype": "text/x-python",
   "name": "python",
   "nbconvert_exporter": "python",
   "pygments_lexer": "ipython2",
   "version": "2.7.6"
  },
  "kernelspec": {
   "name": "python3",
   "language": "python",
   "display_name": "Python 3"
  },
  "pycharm": {
   "stem_cell": {
    "cell_type": "raw",
    "source": [],
    "metadata": {
     "collapsed": false
    }
   }
  }
 },
 "nbformat": 4,
 "nbformat_minor": 0
}